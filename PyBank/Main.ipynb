{
 "cells": [
  {
   "cell_type": "code",
   "execution_count": 2,
   "metadata": {},
   "outputs": [],
   "source": [
    "import pandas as pd"
   ]
  },
  {
   "cell_type": "code",
   "execution_count": 3,
   "metadata": {},
   "outputs": [],
   "source": [
    "csv_path = \"Resources/budget_data.csv\""
   ]
  },
  {
   "cell_type": "code",
   "execution_count": 4,
   "metadata": {},
   "outputs": [
    {
     "data": {
      "text/html": [
       "<div>\n",
       "<style scoped>\n",
       "    .dataframe tbody tr th:only-of-type {\n",
       "        vertical-align: middle;\n",
       "    }\n",
       "\n",
       "    .dataframe tbody tr th {\n",
       "        vertical-align: top;\n",
       "    }\n",
       "\n",
       "    .dataframe thead th {\n",
       "        text-align: right;\n",
       "    }\n",
       "</style>\n",
       "<table border=\"1\" class=\"dataframe\">\n",
       "  <thead>\n",
       "    <tr style=\"text-align: right;\">\n",
       "      <th></th>\n",
       "      <th>Date</th>\n",
       "      <th>Profit/Losses</th>\n",
       "    </tr>\n",
       "  </thead>\n",
       "  <tbody>\n",
       "    <tr>\n",
       "      <td>0</td>\n",
       "      <td>Jan-2010</td>\n",
       "      <td>867884</td>\n",
       "    </tr>\n",
       "    <tr>\n",
       "      <td>1</td>\n",
       "      <td>Feb-2010</td>\n",
       "      <td>984655</td>\n",
       "    </tr>\n",
       "    <tr>\n",
       "      <td>2</td>\n",
       "      <td>Mar-2010</td>\n",
       "      <td>322013</td>\n",
       "    </tr>\n",
       "    <tr>\n",
       "      <td>3</td>\n",
       "      <td>Apr-2010</td>\n",
       "      <td>-69417</td>\n",
       "    </tr>\n",
       "    <tr>\n",
       "      <td>4</td>\n",
       "      <td>May-2010</td>\n",
       "      <td>310503</td>\n",
       "    </tr>\n",
       "  </tbody>\n",
       "</table>\n",
       "</div>"
      ],
      "text/plain": [
       "       Date  Profit/Losses\n",
       "0  Jan-2010         867884\n",
       "1  Feb-2010         984655\n",
       "2  Mar-2010         322013\n",
       "3  Apr-2010         -69417\n",
       "4  May-2010         310503"
      ]
     },
     "execution_count": 4,
     "metadata": {},
     "output_type": "execute_result"
    }
   ],
   "source": [
    "PyBank_df = pd.read_csv(csv_path)\n",
    "\n",
    "PyBank_df.head()\n"
   ]
  },
  {
   "cell_type": "code",
   "execution_count": 5,
   "metadata": {},
   "outputs": [
    {
     "name": "stdout",
     "output_type": "stream",
     "text": [
      "Total Months =  86\n"
     ]
    }
   ],
   "source": [
    "Total_Months = PyBank_df['Date'].count()\n",
    "\n",
    "print(\"Total Months = \", Total_Months)"
   ]
  },
  {
   "cell_type": "code",
   "execution_count": 6,
   "metadata": {},
   "outputs": [
    {
     "name": "stdout",
     "output_type": "stream",
     "text": [
      "Total = $ 38382578\n"
     ]
    }
   ],
   "source": [
    "Total = PyBank_df['Profit/Losses'].sum()\n",
    "\n",
    "print(\"Total = $\", Total)"
   ]
  },
  {
   "cell_type": "code",
   "execution_count": 7,
   "metadata": {},
   "outputs": [
    {
     "data": {
      "text/html": [
       "<div>\n",
       "<style scoped>\n",
       "    .dataframe tbody tr th:only-of-type {\n",
       "        vertical-align: middle;\n",
       "    }\n",
       "\n",
       "    .dataframe tbody tr th {\n",
       "        vertical-align: top;\n",
       "    }\n",
       "\n",
       "    .dataframe thead th {\n",
       "        text-align: right;\n",
       "    }\n",
       "</style>\n",
       "<table border=\"1\" class=\"dataframe\">\n",
       "  <thead>\n",
       "    <tr style=\"text-align: right;\">\n",
       "      <th></th>\n",
       "      <th>Date</th>\n",
       "      <th>Profit/Losses</th>\n",
       "      <th>Profit Change</th>\n",
       "    </tr>\n",
       "  </thead>\n",
       "  <tbody>\n",
       "    <tr>\n",
       "      <td>0</td>\n",
       "      <td>Jan-2010</td>\n",
       "      <td>867884</td>\n",
       "      <td>NaN</td>\n",
       "    </tr>\n",
       "    <tr>\n",
       "      <td>1</td>\n",
       "      <td>Feb-2010</td>\n",
       "      <td>984655</td>\n",
       "      <td>116771.0</td>\n",
       "    </tr>\n",
       "    <tr>\n",
       "      <td>2</td>\n",
       "      <td>Mar-2010</td>\n",
       "      <td>322013</td>\n",
       "      <td>-662642.0</td>\n",
       "    </tr>\n",
       "    <tr>\n",
       "      <td>3</td>\n",
       "      <td>Apr-2010</td>\n",
       "      <td>-69417</td>\n",
       "      <td>-391430.0</td>\n",
       "    </tr>\n",
       "    <tr>\n",
       "      <td>4</td>\n",
       "      <td>May-2010</td>\n",
       "      <td>310503</td>\n",
       "      <td>379920.0</td>\n",
       "    </tr>\n",
       "  </tbody>\n",
       "</table>\n",
       "</div>"
      ],
      "text/plain": [
       "       Date  Profit/Losses  Profit Change\n",
       "0  Jan-2010         867884            NaN\n",
       "1  Feb-2010         984655       116771.0\n",
       "2  Mar-2010         322013      -662642.0\n",
       "3  Apr-2010         -69417      -391430.0\n",
       "4  May-2010         310503       379920.0"
      ]
     },
     "execution_count": 7,
     "metadata": {},
     "output_type": "execute_result"
    }
   ],
   "source": [
    "Profit_Change = PyBank_df['Profit/Losses'].diff(+1)\n",
    "\n",
    "PyBank_df['Profit Change'] = Profit_Change\n",
    "\n",
    "PyBank_df.head()"
   ]
  },
  {
   "cell_type": "code",
   "execution_count": 19,
   "metadata": {},
   "outputs": [
    {
     "name": "stdout",
     "output_type": "stream",
     "text": [
      "Average Change: $ -2315\n"
     ]
    }
   ],
   "source": [
    "Profit_Average = PyBank_df['Profit Change'].mean()\n",
    "\n",
    "Profit_Average = round(int(Profit_Average))\n",
    "\n",
    "print(\"Average Change: $\", (Profit_Average))"
   ]
  },
  {
   "cell_type": "code",
   "execution_count": 20,
   "metadata": {},
   "outputs": [
    {
     "name": "stdout",
     "output_type": "stream",
     "text": [
      "Greatest Increase in Profits\n",
      "$         Date  Profit/Losses  Profit Change\n",
      "25  Feb-2012        1170593      1926159.0\n"
     ]
    }
   ],
   "source": [
    "#use loc in line 9 of Loc_iLoc activity\n",
    "\n",
    "Greatest_Increase = PyBank_df['Profit Change'].max()\n",
    "\n",
    "Greatest_Increase = round(int(Greatest_Increase))\n",
    "\n",
    "print(\"Greatest Increase in Profits\")\n",
    "\n",
    "print(PyBank_df.loc[PyBank_df[\"Profit Change\"] == Greatest_Increase])"
   ]
  },
  {
   "cell_type": "code",
   "execution_count": 22,
   "metadata": {},
   "outputs": [
    {
     "name": "stdout",
     "output_type": "stream",
     "text": [
      "Greatest Decrease in Profits\n",
      "        Date  Profit/Losses  Profit Change\n",
      "44  Sep-2013       -1196225     -2196167.0\n"
     ]
    }
   ],
   "source": [
    "Greatest_Decrease = PyBank_df['Profit Change'].min()\n",
    "\n",
    "Greatest_Decrease = round(int(Greatest_Decrease))\n",
    "\n",
    "print(\"Greatest Decrease in Profits\")\n",
    "\n",
    "print(PyBank_df.loc[PyBank_df[\"Profit Change\"] == Greatest_Decrease])"
   ]
  },
  {
   "cell_type": "code",
   "execution_count": 33,
   "metadata": {},
   "outputs": [
    {
     "name": "stdout",
     "output_type": "stream",
     "text": [
      "\n",
      "              Financial Analysis\n",
      "---------------------------------------------\n",
      "\n",
      "Total Months =  86\n",
      "Total = $ 38382578\n",
      "Average Change: $ -2315\n",
      "\n",
      "Greatest Increase in Profits\n",
      "        Date  Profit/Losses  Profit Change\n",
      "25  Feb-2012        1170593      1926159.0\n",
      "\n",
      "Greatest Decrease in Profits\n",
      "        Date  Profit/Losses  Profit Change\n",
      "44  Sep-2013       -1196225     -2196167.0\n"
     ]
    }
   ],
   "source": [
    "print(\"\")\n",
    "print(\"              Financial Analysis\")\n",
    "\n",
    "print(\"---------------------------------------------\")\n",
    "print(\"\")\n",
    "print(\"Total Months = \", Total_Months)\n",
    "print(\"Total = $\", Total)\n",
    "print(\"Average Change: $\", (Profit_Average))\n",
    "print(\"\")\n",
    "print(\"Greatest Increase in Profits\")\n",
    "print(PyBank_df.loc[PyBank_df[\"Profit Change\"] == Greatest_Increase])\n",
    "print(\"\")\n",
    "print(\"Greatest Decrease in Profits\")\n",
    "print(PyBank_df.loc[PyBank_df[\"Profit Change\"] == Greatest_Decrease])"
   ]
  },
  {
   "cell_type": "code",
   "execution_count": null,
   "metadata": {},
   "outputs": [],
   "source": []
  }
 ],
 "metadata": {
  "kernelspec": {
   "display_name": "Python 3",
   "language": "python",
   "name": "python3"
  },
  "language_info": {
   "codemirror_mode": {
    "name": "ipython",
    "version": 3
   },
   "file_extension": ".py",
   "mimetype": "text/x-python",
   "name": "python",
   "nbconvert_exporter": "python",
   "pygments_lexer": "ipython3",
   "version": "3.7.4"
  }
 },
 "nbformat": 4,
 "nbformat_minor": 2
}
